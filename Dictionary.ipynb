{
 "cells": [
  {
   "cell_type": "markdown",
   "id": "e8156396-97e2-4660-9feb-486c5cfa5c59",
   "metadata": {},
   "source": [
    "# Dictionary\n",
    "Dictionaries are used to store collections of key-value pairs."
   ]
  },
  {
   "cell_type": "markdown",
   "id": "2b2fad4f-b3c4-425d-bb43-fb9f8b107608",
   "metadata": {},
   "source": [
    "#### Creating Dictionaries\n",
    "* Use curly braces { } to enclose key-value pairs seperated by commas"
   ]
  },
  {
   "cell_type": "code",
   "execution_count": 2,
   "id": "f18efbe1-a1d6-40f1-8c75-ed327b824c49",
   "metadata": {},
   "outputs": [
    {
     "data": {
      "text/plain": [
       "{'apple': 'red', 'banana': 'yellow', 'orange': 'orange'}"
      ]
     },
     "execution_count": 2,
     "metadata": {},
     "output_type": "execute_result"
    }
   ],
   "source": [
    "fruits = {\"apple\":\"red\", \"banana\":\"yellow\", \"orange\":\"orange\"}\n",
    "fruits"
   ]
  },
  {
   "cell_type": "markdown",
   "id": "83f47aa0-4973-4cc3-8305-6137a7e74621",
   "metadata": {},
   "source": [
    "#### Accessing Elements\n",
    "* Use square brackets [ ] with the key to retrieve the value."
   ]
  },
  {
   "cell_type": "code",
   "execution_count": 3,
   "id": "1ce27405-7990-426b-be16-ea4703e1a270",
   "metadata": {},
   "outputs": [
    {
     "data": {
      "text/plain": [
       "'red'"
      ]
     },
     "execution_count": 3,
     "metadata": {},
     "output_type": "execute_result"
    }
   ],
   "source": [
    "apple_color = fruits[\"apple\"]\n",
    "apple_color"
   ]
  },
  {
   "cell_type": "markdown",
   "id": "6b6ab75f-784c-412b-b2c3-c4019407f7a2",
   "metadata": {},
   "source": [
    "#### Adding and Modifying Elements\n",
    "* Assign a new value to a key to update or create a key-value pair"
   ]
  },
  {
   "cell_type": "code",
   "execution_count": 5,
   "id": "871656fa-8afd-4555-8e64-08c72ba9a9bc",
   "metadata": {},
   "outputs": [
    {
     "data": {
      "text/plain": [
       "{'apple': 'red', 'banana': 'yellowish', 'orange': 'orange', 'kiwi': 'green'}"
      ]
     },
     "execution_count": 5,
     "metadata": {},
     "output_type": "execute_result"
    }
   ],
   "source": [
    "fruits[\"kiwi\"] = \"green\"\n",
    "fruits[\"banana\"] = \"yellowish\"\n",
    "fruits"
   ]
  },
  {
   "cell_type": "markdown",
   "id": "7858c649-716d-480a-9a4f-c9dccd7eaddb",
   "metadata": {},
   "source": [
    "#### Removing Elements\n",
    "* Use the 'del' keyword with the key to remove it and its value."
   ]
  },
  {
   "cell_type": "code",
   "execution_count": 6,
   "id": "d928998f-d49b-490e-bcf2-52f6b5782926",
   "metadata": {},
   "outputs": [
    {
     "data": {
      "text/plain": [
       "{'apple': 'red', 'banana': 'yellowish', 'kiwi': 'green'}"
      ]
     },
     "execution_count": 6,
     "metadata": {},
     "output_type": "execute_result"
    }
   ],
   "source": [
    "del fruits[\"orange\"]\n",
    "fruits"
   ]
  },
  {
   "cell_type": "markdown",
   "id": "a248b966-8e06-4699-9fd3-a85cf3a8a80e",
   "metadata": {},
   "source": [
    "#### keys()\n",
    "* Returns a view object containing all the keys in the dictionary"
   ]
  },
  {
   "cell_type": "code",
   "execution_count": 7,
   "id": "680613c7-241a-4a8e-b00f-0d6921388064",
   "metadata": {},
   "outputs": [
    {
     "data": {
      "text/plain": [
       "dict_keys(['apple', 'banana', 'kiwi'])"
      ]
     },
     "execution_count": 7,
     "metadata": {},
     "output_type": "execute_result"
    }
   ],
   "source": [
    "fruits.keys()"
   ]
  },
  {
   "cell_type": "markdown",
   "id": "17eef809-9c3e-41a5-89f4-7acb45ed59db",
   "metadata": {},
   "source": [
    "#### values()\n",
    "* Returns a view object containing all the values in the dictionary"
   ]
  },
  {
   "cell_type": "code",
   "execution_count": 8,
   "id": "0fb4ae31-01df-449b-982f-f95a5886c491",
   "metadata": {},
   "outputs": [
    {
     "data": {
      "text/plain": [
       "dict_values(['red', 'yellowish', 'green'])"
      ]
     },
     "execution_count": 8,
     "metadata": {},
     "output_type": "execute_result"
    }
   ],
   "source": [
    "fruits.values()"
   ]
  },
  {
   "cell_type": "markdown",
   "id": "52097b13-8c91-4273-a8c5-0fef613d4a86",
   "metadata": {},
   "source": [
    "#### items()\n",
    "* Returns all the key-value pairs in the dictionary as tuples."
   ]
  },
  {
   "cell_type": "code",
   "execution_count": 9,
   "id": "24fd92df-a242-479e-bdc9-8ed5c4e18865",
   "metadata": {},
   "outputs": [
    {
     "data": {
      "text/plain": [
       "dict_items([('apple', 'red'), ('banana', 'yellowish'), ('kiwi', 'green')])"
      ]
     },
     "execution_count": 9,
     "metadata": {},
     "output_type": "execute_result"
    }
   ],
   "source": [
    "fruits.items()"
   ]
  },
  {
   "cell_type": "markdown",
   "id": "c8b7ad6b-b2c3-494a-b015-951968ca3141",
   "metadata": {},
   "source": [
    "#### clear()\n",
    "* Removes all key-value pairs from the dictionary"
   ]
  },
  {
   "cell_type": "code",
   "execution_count": 10,
   "id": "dcd6638d-a760-4178-ae4c-bd9cc3f09bba",
   "metadata": {},
   "outputs": [],
   "source": [
    "fruits.clear()"
   ]
  },
  {
   "cell_type": "code",
   "execution_count": 11,
   "id": "d52cb532-bdba-4710-b88a-4b0412e6c57c",
   "metadata": {},
   "outputs": [
    {
     "data": {
      "text/plain": [
       "{}"
      ]
     },
     "execution_count": 11,
     "metadata": {},
     "output_type": "execute_result"
    }
   ],
   "source": [
    "fruits"
   ]
  },
  {
   "cell_type": "code",
   "execution_count": null,
   "id": "899055c9-69b4-4917-97c4-842c3e3332fc",
   "metadata": {},
   "outputs": [],
   "source": []
  }
 ],
 "metadata": {
  "kernelspec": {
   "display_name": "Python 3 (ipykernel)",
   "language": "python",
   "name": "python3"
  },
  "language_info": {
   "codemirror_mode": {
    "name": "ipython",
    "version": 3
   },
   "file_extension": ".py",
   "mimetype": "text/x-python",
   "name": "python",
   "nbconvert_exporter": "python",
   "pygments_lexer": "ipython3",
   "version": "3.11.7"
  }
 },
 "nbformat": 4,
 "nbformat_minor": 5
}
