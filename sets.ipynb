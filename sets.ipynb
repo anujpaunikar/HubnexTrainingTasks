{
 "cells": [
  {
   "cell_type": "markdown",
   "id": "388cc1d3-4165-46c9-9459-ea6b8dc737ae",
   "metadata": {},
   "source": [
    "# Sets in Python\n",
    "A set is an unordered collection data type that is iterable, mutable, and has no duplicate elements."
   ]
  },
  {
   "cell_type": "markdown",
   "id": "21d7e3f3-9529-46ee-9fcc-d713e6499c23",
   "metadata": {},
   "source": [
    "#### Creating sets\n",
    "Sets can be created by placing comma-separated values withing curly braces { } or by using the built-in set( ) function"
   ]
  },
  {
   "cell_type": "code",
   "execution_count": 2,
   "id": "559b22d9-3f59-4c1c-8b50-61c773273c04",
   "metadata": {},
   "outputs": [
    {
     "data": {
      "text/plain": [
       "{1, 2, 3, 4}"
      ]
     },
     "execution_count": 2,
     "metadata": {},
     "output_type": "execute_result"
    }
   ],
   "source": [
    "# Using curly braces\n",
    "my_set = {1,2,3,4}\n",
    "\n",
    "# Using the set() fucntion\n",
    "my_set = set([1,2,3,4])\n",
    "my_set"
   ]
  },
  {
   "cell_type": "markdown",
   "id": "9aa3c61d-3968-489b-a736-d5817718e4d1",
   "metadata": {},
   "source": [
    "### Basic Set Operations\n",
    "#### Adding elements"
   ]
  },
  {
   "cell_type": "code",
   "execution_count": 12,
   "id": "70762c5f-4b5d-4b24-a503-3718c1c0ac15",
   "metadata": {},
   "outputs": [
    {
     "name": "stdout",
     "output_type": "stream",
     "text": [
      "original={1, 2, 3}\n",
      "Add={1, 2, 3, 4}\n"
     ]
    }
   ],
   "source": [
    "my_set = {1,2,3}\n",
    "print(f'{\"original\"}={my_set}')\n",
    "my_set.add(4)\n",
    "print(f'{\"Add\"}={my_set}')"
   ]
  },
  {
   "cell_type": "markdown",
   "id": "80414602-edd8-44fc-a3a4-cb9e9aff3609",
   "metadata": {},
   "source": [
    "#### Removing elements\n",
    "'remove( )'    \n",
    "'discard( )'    "
   ]
  },
  {
   "cell_type": "code",
   "execution_count": 13,
   "id": "9a30668a-f090-40cb-b697-2d083f2a6428",
   "metadata": {},
   "outputs": [
    {
     "name": "stdout",
     "output_type": "stream",
     "text": [
      "remove = {1, 2, 3}\n",
      "discard = {1, 2}\n"
     ]
    }
   ],
   "source": [
    "my_set.remove(4)\n",
    "print(f'{\"remove\"} = {my_set}')\n",
    "\n",
    "my_set.discard(3)\n",
    "print(f'{\"discard\"} = {my_set}')"
   ]
  },
  {
   "cell_type": "markdown",
   "id": "c2fd817e-f8b5-49e0-987d-23f03303039f",
   "metadata": {},
   "source": [
    "#### Set Operations"
   ]
  },
  {
   "cell_type": "markdown",
   "id": "9c707468-2fc4-46d8-912c-3020c40ac89c",
   "metadata": {},
   "source": [
    "* ##### Union ('|' or 'union()' method)"
   ]
  },
  {
   "cell_type": "code",
   "execution_count": 14,
   "id": "2596261e-f172-47c3-9ae4-f07a94000277",
   "metadata": {},
   "outputs": [
    {
     "name": "stdout",
     "output_type": "stream",
     "text": [
      "| = {1, 2, 3, 4, 5}\n",
      ".union = {1, 2, 3, 4, 5}\n"
     ]
    }
   ],
   "source": [
    "set1 = {1,2,3}\n",
    "set2 = {3,4,5}\n",
    "\n",
    "set3 = set1 | set2\n",
    "print(f'{\"|\"} = {set3}')\n",
    "\n",
    "set3 = set1.union(set2)\n",
    "print(f'{\".union\"} = {set3}')"
   ]
  },
  {
   "cell_type": "markdown",
   "id": "84e3c405-dbd6-4aa3-9165-3d71143dbcc7",
   "metadata": {},
   "source": [
    "* ##### Intersection (& or intersection() method)"
   ]
  },
  {
   "cell_type": "code",
   "execution_count": 15,
   "id": "2f3bdcc0-55cb-4e14-96bb-6554fffe005b",
   "metadata": {},
   "outputs": [
    {
     "name": "stdout",
     "output_type": "stream",
     "text": [
      "& = {3}\n",
      ".intersection = {3}\n"
     ]
    }
   ],
   "source": [
    "set3 = set1 & set2\n",
    "print(f'{\"&\"} = {set3}')\n",
    "\n",
    "set3 = set1.intersection(set2)\n",
    "print(f'{\".intersection\"} = {set3}')"
   ]
  },
  {
   "cell_type": "markdown",
   "id": "7e10f23b-7d7f-4c94-ac30-6e7ef839c770",
   "metadata": {},
   "source": [
    "* ##### Difference (- or difference() method)"
   ]
  },
  {
   "cell_type": "code",
   "execution_count": 16,
   "id": "8ed221ee-ecb7-4c64-a802-4fad1e2cdc1d",
   "metadata": {},
   "outputs": [
    {
     "name": "stdout",
     "output_type": "stream",
     "text": [
      "- = {1, 2}\n",
      ".difference = {1, 2}\n"
     ]
    }
   ],
   "source": [
    "set3 = set1 - set2\n",
    "print(f'{\"-\"} = {set3}')\n",
    "\n",
    "set3 = set1.difference(set2)\n",
    "print(f'{\".difference\"} = {set3}')"
   ]
  },
  {
   "cell_type": "markdown",
   "id": "88254435-6b6d-4a1e-a683-f5e1a3f68c18",
   "metadata": {},
   "source": [
    "* ##### Symmetric Difference (^ or symmetric_difference() method)"
   ]
  },
  {
   "cell_type": "code",
   "execution_count": 17,
   "id": "f11768a2-28a1-41c8-a1bb-e931bf347d9b",
   "metadata": {},
   "outputs": [
    {
     "name": "stdout",
     "output_type": "stream",
     "text": [
      "^ = {1, 2, 4, 5}\n",
      ".symmetric_difference = {1, 2, 4, 5}\n"
     ]
    }
   ],
   "source": [
    "set3 = set1 ^ set2\n",
    "print(f'{\"^\"} = {set3}')\n",
    "\n",
    "set3 = set1.symmetric_difference(set2)\n",
    "print(f'{\".symmetric_difference\"} = {set3}')"
   ]
  },
  {
   "cell_type": "markdown",
   "id": "a3905a2c-252b-422f-ae64-1988d11ccef9",
   "metadata": {},
   "source": [
    "#### Subset and Superset"
   ]
  },
  {
   "cell_type": "markdown",
   "id": "7f3cff0d-3edf-4343-bd68-be14afd5d93b",
   "metadata": {},
   "source": [
    "* ##### 'issubset()': Returns 'True' if the set is a subset of another set.\n",
    "* ##### 'issuperset()': Returns 'True' if the set is a superset of another set."
   ]
  },
  {
   "cell_type": "code",
   "execution_count": 20,
   "id": "83be29bd-1f22-4417-9fd6-915ce71ebc4a",
   "metadata": {},
   "outputs": [
    {
     "name": "stdout",
     "output_type": "stream",
     "text": [
      ".issubset = True\n",
      ".issuperset = True\n"
     ]
    }
   ],
   "source": [
    "set1 = {1, 2}\n",
    "set2 = {1, 2, 3, 4}\n",
    "\n",
    "set1.issubset(set2)\n",
    "print(f'{\".issubset\"} = {set1.issubset(set2)}')\n",
    "\n",
    "set2.issuperset(set1)\n",
    "print(f'{\".issuperset\"} = {set2.issuperset(set1)}')"
   ]
  },
  {
   "cell_type": "markdown",
   "id": "607d21e7-621b-42e6-ba80-ca5e41ccac2d",
   "metadata": {},
   "source": [
    "#### Checking Membership"
   ]
  },
  {
   "cell_type": "code",
   "execution_count": 22,
   "id": "32cb69a3-033e-4f65-b7fb-c9ddcfc8b833",
   "metadata": {},
   "outputs": [
    {
     "name": "stdout",
     "output_type": "stream",
     "text": [
      "True\n",
      "False\n"
     ]
    }
   ],
   "source": [
    "print(2 in set1)\n",
    "print(5 in set1)"
   ]
  },
  {
   "cell_type": "markdown",
   "id": "fe975ba7-cd24-4eed-b377-0f16b48dfc87",
   "metadata": {},
   "source": [
    "#### Copying Sets\n",
    "* ##### 'copy()' : Returns a shallow copy of the set"
   ]
  },
  {
   "cell_type": "code",
   "execution_count": null,
   "id": "2b70509c-06ac-4f76-b15a-e173e5bffca5",
   "metadata": {},
   "outputs": [],
   "source": [
    "set1 = {1, 2, 3}\n",
    "set2 = set1.copy()\n",
    "print(f'{\"set1\"} = {set1}')\n",
    "print(f'{\"set2\"}"
   ]
  }
 ],
 "metadata": {
  "kernelspec": {
   "display_name": "Python 3 (ipykernel)",
   "language": "python",
   "name": "python3"
  },
  "language_info": {
   "codemirror_mode": {
    "name": "ipython",
    "version": 3
   },
   "file_extension": ".py",
   "mimetype": "text/x-python",
   "name": "python",
   "nbconvert_exporter": "python",
   "pygments_lexer": "ipython3",
   "version": "3.11.7"
  }
 },
 "nbformat": 4,
 "nbformat_minor": 5
}
