{
 "cells": [
  {
   "cell_type": "markdown",
   "id": "31c6c891-b82b-4a8a-b2eb-653e39afd313",
   "metadata": {},
   "source": [
    "# ELIF (If-else functions)"
   ]
  },
  {
   "cell_type": "markdown",
   "id": "f26ccb12-fb2a-4561-a46e-8d6a54455a37",
   "metadata": {},
   "source": [
    "### Create a function to give various operations on text\n",
    "### op1 = join text\n",
    "### op2 = trim text\n",
    "### op3 = substitute text\n",
    "### op4 = cut and return specific position of string"
   ]
  },
  {
   "cell_type": "markdown",
   "id": "900000fa-8147-4315-b03a-dbbec8410512",
   "metadata": {},
   "source": [
    " "
   ]
  },
  {
   "cell_type": "markdown",
   "id": "a99d1257-51bf-48b2-a22f-da86102ffdd5",
   "metadata": {},
   "source": [
    "#### Join Text"
   ]
  },
  {
   "cell_type": "code",
   "execution_count": 1,
   "id": "f5b5a39b-fa9b-422d-8b47-a575b42917d7",
   "metadata": {},
   "outputs": [
    {
     "name": "stdout",
     "output_type": "stream",
     "text": [
      "Python is high level programming language\n"
     ]
    }
   ],
   "source": [
    "words = ['Python', 'is', 'high', 'level', 'programming', 'language']\n",
    "joined_string = ' '.join(words)\n",
    "print(joined_string)"
   ]
  },
  {
   "cell_type": "markdown",
   "id": "3996ea03-78fe-44a8-bb1e-f7e42d838ee0",
   "metadata": {},
   "source": [
    "#### Trim Text"
   ]
  },
  {
   "cell_type": "code",
   "execution_count": 2,
   "id": "ca79cefa-e8d6-48cc-b42b-cd738cbb1394",
   "metadata": {},
   "outputs": [
    {
     "name": "stdout",
     "output_type": "stream",
     "text": [
      "Original Text: '     python is high level language  '\n",
      "Trimmed Text: 'python is high level language'\n"
     ]
    }
   ],
   "source": [
    "text = \"     python is high level language  \"\n",
    "trimmed_text = text.strip()\n",
    "print(f\"Original Text: '{text}'\")\n",
    "print(f\"Trimmed Text: '{trimmed_text}'\")"
   ]
  },
  {
   "cell_type": "markdown",
   "id": "9ba87e26-f0b1-4a30-a013-6f33c849c6ac",
   "metadata": {},
   "source": [
    "#### Substitute Text"
   ]
  },
  {
   "cell_type": "code",
   "execution_count": 7,
   "id": "30cd9531-9d7f-4539-a184-4abcfb86f1ff",
   "metadata": {},
   "outputs": [
    {
     "name": "stdout",
     "output_type": "stream",
     "text": [
      "Original Text = Python is high-level language.\n",
      "Substituted Text = Python is a programming language.\n"
     ]
    }
   ],
   "source": [
    "text = \"Python is high-level language.\"\n",
    "substituted_text = text.replace(\"high-level\", \"a programming\")\n",
    "print(f'{\"Original Text\"} = {text}')\n",
    "print(f'{\"Substituted Text\"} = {substituted_text}')"
   ]
  },
  {
   "cell_type": "markdown",
   "id": "84f85b77-8f18-4e26-9ecc-b31440517eca",
   "metadata": {},
   "source": [
    "#### Cut Text"
   ]
  },
  {
   "cell_type": "code",
   "execution_count": 8,
   "id": "095c40d4-0fe0-4d2c-8878-ad2365fd8cf9",
   "metadata": {},
   "outputs": [
    {
     "name": "stdout",
     "output_type": "stream",
     "text": [
      "Strong\n"
     ]
    }
   ],
   "source": [
    "text = \"Stay Strong\"\n",
    "cut_text = text[5:11]\n",
    "print(cut_text)"
   ]
  },
  {
   "cell_type": "markdown",
   "id": "e900644f-80db-4053-9351-1c20498bee7e",
   "metadata": {},
   "source": [
    " "
   ]
  },
  {
   "cell_type": "markdown",
   "id": "739fc537-8874-4059-9d24-7f1678c37df4",
   "metadata": {},
   "source": [
    "#### Elif Operations"
   ]
  },
  {
   "cell_type": "code",
   "execution_count": 10,
   "id": "2ccc060e-8e06-4d71-ae9a-dbe5d610fdf0",
   "metadata": {},
   "outputs": [],
   "source": [
    "def text_operations(text, operation, *args):\n",
    "    if operation == 'join':\n",
    "        separator = args[0] if args else ' '\n",
    "        return separator.join(text)\n",
    "\n",
    "    elif operation == 'trim':\n",
    "        return text.strip()\n",
    "\n",
    "    elif operation == 'substitute':\n",
    "        old_sub, new_sub = args\n",
    "        return text.replace(old_sub, new_sub)\n",
    "\n",
    "    elif operation == 'cut':\n",
    "        start, end = args\n",
    "        return text[start:end]\n",
    "\n",
    "    else:\n",
    "        return \"Invalid Operation\""
   ]
  },
  {
   "cell_type": "code",
   "execution_count": 19,
   "id": "e8f8f874-f3ac-48e3-a701-7ab3938bd3ae",
   "metadata": {},
   "outputs": [
    {
     "name": "stdout",
     "output_type": "stream",
     "text": [
      "Original Text:   There is a computer \n"
     ]
    }
   ],
   "source": [
    "text = \"  There is a computer \"\n",
    "print(\"Original Text:\", text)"
   ]
  },
  {
   "cell_type": "markdown",
   "id": "a3159958-217c-4a93-9b8d-f2962df9fac2",
   "metadata": {},
   "source": [
    "* ##### Join Text"
   ]
  },
  {
   "cell_type": "code",
   "execution_count": 20,
   "id": "a77db1a2-0023-4ac5-9e6e-271f7fb24be9",
   "metadata": {},
   "outputs": [
    {
     "name": "stdout",
     "output_type": "stream",
     "text": [
      "Joined Text:  ` `T`h`e`r`e` `i`s` `a` `c`o`m`p`u`t`e`r` \n"
     ]
    }
   ],
   "source": [
    "joined_text = text_operations(text, 'join', '`')\n",
    "print(\"Joined Text:\", joined_text)"
   ]
  },
  {
   "cell_type": "markdown",
   "id": "da4aedf9-eba7-4917-b8ee-0c8a5258885d",
   "metadata": {},
   "source": [
    "* ##### Trim Text"
   ]
  },
  {
   "cell_type": "code",
   "execution_count": 21,
   "id": "857811eb-57ff-443d-a0fb-0c00fa2f4b9e",
   "metadata": {},
   "outputs": [
    {
     "name": "stdout",
     "output_type": "stream",
     "text": [
      "Trimmed Text: There is a computer\n"
     ]
    }
   ],
   "source": [
    "trimmed_text = text_operations(text, 'trim')\n",
    "print(\"Trimmed Text:\", trimmed_text)"
   ]
  },
  {
   "cell_type": "markdown",
   "id": "1acd033b-e5f9-4d8b-831f-edfc27a97742",
   "metadata": {},
   "source": [
    "* ##### Substitute Text"
   ]
  },
  {
   "cell_type": "code",
   "execution_count": 23,
   "id": "95ac638e-5eb4-47fc-81c9-2a6656747f4e",
   "metadata": {},
   "outputs": [
    {
     "name": "stdout",
     "output_type": "stream",
     "text": [
      "Substituted Text:   There is a guitar \n"
     ]
    }
   ],
   "source": [
    "substituted_text = text_operations(text, 'substitute', 'computer', 'guitar')\n",
    "print(\"Substituted Text:\", substituted_text)"
   ]
  },
  {
   "cell_type": "markdown",
   "id": "6058da4d-4e82-4b08-9760-4ae0a99e2387",
   "metadata": {},
   "source": [
    "* ##### Cut Text"
   ]
  },
  {
   "cell_type": "code",
   "execution_count": 24,
   "id": "991ed7e3-5d49-4737-879c-e828c3168ccb",
   "metadata": {},
   "outputs": [
    {
     "name": "stdout",
     "output_type": "stream",
     "text": [
      "Cut Text:  computer\n"
     ]
    }
   ],
   "source": [
    "cut_text = text_operations(text, 'cut', 12,21)\n",
    "print(\"Cut Text:\", cut_text)"
   ]
  },
  {
   "cell_type": "code",
   "execution_count": null,
   "id": "e0707e52-2abe-4abd-8b98-9aa8270876ab",
   "metadata": {},
   "outputs": [],
   "source": []
  }
 ],
 "metadata": {
  "kernelspec": {
   "display_name": "Python 3 (ipykernel)",
   "language": "python",
   "name": "python3"
  },
  "language_info": {
   "codemirror_mode": {
    "name": "ipython",
    "version": 3
   },
   "file_extension": ".py",
   "mimetype": "text/x-python",
   "name": "python",
   "nbconvert_exporter": "python",
   "pygments_lexer": "ipython3",
   "version": "3.11.7"
  }
 },
 "nbformat": 4,
 "nbformat_minor": 5
}
