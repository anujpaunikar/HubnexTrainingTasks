{
 "cells": [
  {
   "cell_type": "markdown",
   "id": "7e7e4813-9d29-4b47-8636-05e6db9e9b31",
   "metadata": {},
   "source": [
    "# TASK 4: FUNCTIONS"
   ]
  },
  {
   "cell_type": "markdown",
   "id": "e916ba55-e4bb-45e5-9f84-0657d35f8363",
   "metadata": {},
   "source": [
    "### Create a function to accept 3 parameters and join them, return output should be a dictionary\n",
    "### output = {val1: parameter2, val2: parameter2, val3: parameter3, joinText: joined text of 3 parameter}"
   ]
  },
  {
   "cell_type": "code",
   "execution_count": 1,
   "id": "60e3de78-10d7-47d2-a19a-c3a2b6ebcb69",
   "metadata": {},
   "outputs": [
    {
     "name": "stdout",
     "output_type": "stream",
     "text": [
      "Sentence: Never Give Up\n"
     ]
    }
   ],
   "source": [
    "print('Sentence: Never Give Up')"
   ]
  },
  {
   "cell_type": "markdown",
   "id": "4457be93-6807-4cec-ae4f-77427cac0fce",
   "metadata": {},
   "source": [
    "#### Creating a function"
   ]
  },
  {
   "cell_type": "code",
   "execution_count": 7,
   "id": "118a83ae-dd98-4396-a9c8-127da631e4e0",
   "metadata": {},
   "outputs": [],
   "source": [
    "def dic_word(val1, val2, val3):\n",
    "    join_word = f'{val1} {val2} {val3}'\n",
    "    result = {\n",
    "        'Word1' : val1,\n",
    "        'Word2' : val2,\n",
    "        'Word3' : val3,\n",
    "        'JoinedWord' : join_word\n",
    "    }\n",
    "    return result"
   ]
  },
  {
   "cell_type": "markdown",
   "id": "8521161b-10d4-48cf-a9a0-18aee34be6f7",
   "metadata": {},
   "source": [
    "#### Assigning the values"
   ]
  },
  {
   "cell_type": "code",
   "execution_count": 8,
   "id": "babdd984-a449-4eb7-9ce9-2212bcf34f0b",
   "metadata": {},
   "outputs": [],
   "source": [
    "val1 = 'Never'\n",
    "val2 = 'Give'\n",
    "val3 = 'Up'\n",
    "output = dic_word(val1, val2, val3)"
   ]
  },
  {
   "cell_type": "code",
   "execution_count": 9,
   "id": "4082011c-7863-4e0a-af05-67fe5cbe6cee",
   "metadata": {},
   "outputs": [
    {
     "name": "stdout",
     "output_type": "stream",
     "text": [
      "{'Word1': 'Never', 'Word2': 'Give', 'Word3': 'Up', 'JoinedWord': 'Never Give Up'}\n"
     ]
    }
   ],
   "source": [
    "print(output)"
   ]
  },
  {
   "cell_type": "code",
   "execution_count": null,
   "id": "762edba3-9c89-44bb-9ce9-bdfbc2ae591b",
   "metadata": {},
   "outputs": [],
   "source": []
  }
 ],
 "metadata": {
  "kernelspec": {
   "display_name": "Python 3 (ipykernel)",
   "language": "python",
   "name": "python3"
  },
  "language_info": {
   "codemirror_mode": {
    "name": "ipython",
    "version": 3
   },
   "file_extension": ".py",
   "mimetype": "text/x-python",
   "name": "python",
   "nbconvert_exporter": "python",
   "pygments_lexer": "ipython3",
   "version": "3.11.7"
  }
 },
 "nbformat": 4,
 "nbformat_minor": 5
}
