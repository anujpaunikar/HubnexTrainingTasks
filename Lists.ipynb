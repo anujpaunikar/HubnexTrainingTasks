{
  "nbformat": 4,
  "nbformat_minor": 0,
  "metadata": {
    "colab": {
      "provenance": []
    },
    "kernelspec": {
      "name": "python3",
      "display_name": "Python 3"
    },
    "language_info": {
      "name": "python"
    }
  },
  "cells": [
    {
      "cell_type": "markdown",
      "source": [
        "# Lists\n",
        "Lists are used to store collections of items in a specific order. They are mutable, meaning you can modify their contents after creations."
      ],
      "metadata": {
        "id": "TUutsI687BI5"
      }
    },
    {
      "cell_type": "markdown",
      "source": [
        "### Creating Lists\n",
        "* Use square brackets [] to enclose elements, seperated by commas"
      ],
      "metadata": {
        "id": "B3cG2PAH6emZ"
      }
    },
    {
      "cell_type": "code",
      "source": [
        "fruits = [\"apple\", \"banana\", \"orange\"]"
      ],
      "metadata": {
        "id": "KPdxOqBt6cvg"
      },
      "execution_count": null,
      "outputs": []
    },
    {
      "cell_type": "markdown",
      "source": [
        "### Accessing Elements\n",
        "* Lists are assigned an index starting from 0.\n",
        "* Access them using square brackets [ ] with index."
      ],
      "metadata": {
        "id": "i9Kq-RlK8D-A"
      }
    },
    {
      "cell_type": "code",
      "source": [
        "first_fruit = fruits[0]\n",
        "first_fruit\n"
      ],
      "metadata": {
        "colab": {
          "base_uri": "https://localhost:8080/",
          "height": 35
        },
        "id": "BXia9J7A79OP",
        "outputId": "ace986cd-6302-4d48-cdbe-1e42ad29aaaa"
      },
      "execution_count": null,
      "outputs": [
        {
          "output_type": "execute_result",
          "data": {
            "text/plain": [
              "'apple'"
            ],
            "application/vnd.google.colaboratory.intrinsic+json": {
              "type": "string"
            }
          },
          "metadata": {},
          "execution_count": 11
        }
      ]
    },
    {
      "cell_type": "markdown",
      "source": [
        "### Slicing\n",
        "* Extact a sublist usin slicing syntax [start:end:step]"
      ],
      "metadata": {
        "id": "n0yo8r1h9FZI"
      }
    },
    {
      "cell_type": "code",
      "source": [
        "first_two_fruits = fruits[0:2]\n",
        "first_two_fruits"
      ],
      "metadata": {
        "colab": {
          "base_uri": "https://localhost:8080/"
        },
        "id": "It5hm_fz8mOg",
        "outputId": "159ca307-8a01-4b2f-d83e-4a0cde038d35"
      },
      "execution_count": null,
      "outputs": [
        {
          "output_type": "execute_result",
          "data": {
            "text/plain": [
              "['apple', 'banana']"
            ]
          },
          "metadata": {},
          "execution_count": 12
        }
      ]
    },
    {
      "cell_type": "markdown",
      "source": [
        "### Modifying Lists"
      ],
      "metadata": {
        "id": "c1IjgK0zAk95"
      }
    },
    {
      "cell_type": "markdown",
      "source": [
        "#### Assignment\n",
        "  * Change the value at a specific index using assignment"
      ],
      "metadata": {
        "id": "kAGqUdri9yVl"
      }
    },
    {
      "cell_type": "code",
      "source": [
        "fruits[1] = \"mango\"\n",
        "fruits"
      ],
      "metadata": {
        "colab": {
          "base_uri": "https://localhost:8080/"
        },
        "id": "npYeFzYg9edX",
        "outputId": "7947363e-ad6a-4527-868d-aa6c91d7c97d"
      },
      "execution_count": null,
      "outputs": [
        {
          "output_type": "execute_result",
          "data": {
            "text/plain": [
              "['apple', 'mango', 'orange']"
            ]
          },
          "metadata": {},
          "execution_count": 13
        }
      ]
    },
    {
      "cell_type": "markdown",
      "source": [
        "#### append()\n",
        "  * Add an element to the end of the list"
      ],
      "metadata": {
        "id": "1zV5qgyP-L-R"
      }
    },
    {
      "cell_type": "code",
      "source": [
        "fruits.append(\"kiwi\")\n",
        "fruits"
      ],
      "metadata": {
        "colab": {
          "base_uri": "https://localhost:8080/"
        },
        "id": "18bzOygX-Ikv",
        "outputId": "939a26db-b5e9-4390-98c8-93cab7d6c4fe"
      },
      "execution_count": null,
      "outputs": [
        {
          "output_type": "execute_result",
          "data": {
            "text/plain": [
              "['apple', 'mango', 'orange', 'kiwi']"
            ]
          },
          "metadata": {},
          "execution_count": 14
        }
      ]
    },
    {
      "cell_type": "markdown",
      "source": [
        "#### insert(index, element)\n",
        "  * Insert an element at a specific index"
      ],
      "metadata": {
        "id": "AZrqVKzz-fpy"
      }
    },
    {
      "cell_type": "code",
      "source": [
        "fruits.insert(2, \"watermelon\")\n",
        "fruits"
      ],
      "metadata": {
        "colab": {
          "base_uri": "https://localhost:8080/"
        },
        "id": "8WF4xQj2-aTv",
        "outputId": "e16065bf-171b-4725-bb61-cd6ed59c3178"
      },
      "execution_count": null,
      "outputs": [
        {
          "output_type": "execute_result",
          "data": {
            "text/plain": [
              "['apple', 'mango', 'watermelon', 'orange', 'kiwi']"
            ]
          },
          "metadata": {},
          "execution_count": 15
        }
      ]
    },
    {
      "cell_type": "markdown",
      "source": [
        "#### extend(iterable)\n",
        "  * Extend the list by appending all elements from an iterable"
      ],
      "metadata": {
        "id": "pDhDtfjv_2dU"
      }
    },
    {
      "cell_type": "code",
      "source": [
        "fruits.extend([\"grapefruit\", \"pineapple\"])\n",
        "fruits"
      ],
      "metadata": {
        "colab": {
          "base_uri": "https://localhost:8080/"
        },
        "id": "xUQB3esJ-xc1",
        "outputId": "61714887-0e15-4771-ccf6-e819676fdea1"
      },
      "execution_count": null,
      "outputs": [
        {
          "output_type": "execute_result",
          "data": {
            "text/plain": [
              "['apple', 'mango', 'watermelon', 'orange', 'kiwi', 'grapefruit', 'pineapple']"
            ]
          },
          "metadata": {},
          "execution_count": 16
        }
      ]
    },
    {
      "cell_type": "markdown",
      "source": [
        "#### remove(element)\n",
        "  * Removes the first occurrence of a specified element from the list."
      ],
      "metadata": {
        "id": "SxDwdEymAvOW"
      }
    },
    {
      "cell_type": "code",
      "source": [
        "fruits.remove(\"orange\")\n",
        "fruits"
      ],
      "metadata": {
        "colab": {
          "base_uri": "https://localhost:8080/"
        },
        "id": "KBc0dlhvAGVg",
        "outputId": "ce6cf621-c94a-4840-97a9-e9a6d95769b0"
      },
      "execution_count": null,
      "outputs": [
        {
          "output_type": "execute_result",
          "data": {
            "text/plain": [
              "['apple', 'mango', 'kiwi', 'grapefruit', 'pineapple']"
            ]
          },
          "metadata": {},
          "execution_count": 20
        }
      ]
    },
    {
      "cell_type": "markdown",
      "source": [
        "#### pop()\n",
        "  * Removes and returns the element at a specified index from the list."
      ],
      "metadata": {
        "id": "FNieIcyoCCxC"
      }
    },
    {
      "cell_type": "code",
      "source": [
        "second_fruit = fruits.pop(1)\n",
        "fruits"
      ],
      "metadata": {
        "colab": {
          "base_uri": "https://localhost:8080/"
        },
        "id": "JOi5x6HfBAmJ",
        "outputId": "d87898e9-c85a-4464-f09e-fb7ecda0052a"
      },
      "execution_count": null,
      "outputs": [
        {
          "output_type": "execute_result",
          "data": {
            "text/plain": [
              "['apple', 'grapefruit', 'pineapple']"
            ]
          },
          "metadata": {},
          "execution_count": 22
        }
      ]
    },
    {
      "cell_type": "markdown",
      "source": [
        "#### sort()\n",
        "  * sorts the elements of the list in-place"
      ],
      "metadata": {
        "id": "QJUzQvZiDAfc"
      }
    },
    {
      "cell_type": "code",
      "source": [
        "numbers = [5,2,6,3,1,4]\n",
        "numbers.sort()\n",
        "numbers"
      ],
      "metadata": {
        "colab": {
          "base_uri": "https://localhost:8080/"
        },
        "id": "NXFHdfD-Cf4R",
        "outputId": "5bb22173-96ba-48f3-d587-ff4e90463314"
      },
      "execution_count": null,
      "outputs": [
        {
          "output_type": "execute_result",
          "data": {
            "text/plain": [
              "[1, 2, 3, 4, 5, 6]"
            ]
          },
          "metadata": {},
          "execution_count": 23
        }
      ]
    },
    {
      "cell_type": "markdown",
      "source": [
        "#### Membership\n",
        "  * Check if an element is present using the 'in' operator."
      ],
      "metadata": {
        "id": "hCH5u9uSERUO"
      }
    },
    {
      "cell_type": "code",
      "source": [
        "if 2 in numbers:\n",
        "  print(\"Yes\")"
      ],
      "metadata": {
        "colab": {
          "base_uri": "https://localhost:8080/"
        },
        "id": "_DC5dQ1RDiFJ",
        "outputId": "b87a7078-0a52-4da9-c5e2-fe31db7b9a7b"
      },
      "execution_count": null,
      "outputs": [
        {
          "output_type": "stream",
          "name": "stdout",
          "text": [
            "Yes\n"
          ]
        }
      ]
    },
    {
      "cell_type": "markdown",
      "source": [
        "#### Length\n",
        "  * Get the number of elements using the len( )  function"
      ],
      "metadata": {
        "id": "1UhezheTGdJs"
      }
    },
    {
      "cell_type": "code",
      "source": [
        "len(numbers)"
      ],
      "metadata": {
        "id": "Fj5YolTHFIPQ",
        "colab": {
          "base_uri": "https://localhost:8080/"
        },
        "outputId": "1795cf16-9b84-4a46-e61f-b3c0e206cf9c"
      },
      "execution_count": 25,
      "outputs": [
        {
          "output_type": "execute_result",
          "data": {
            "text/plain": [
              "6"
            ]
          },
          "metadata": {},
          "execution_count": 25
        }
      ]
    },
    {
      "cell_type": "code",
      "source": [],
      "metadata": {
        "id": "7sP0z5kRHm3a"
      },
      "execution_count": null,
      "outputs": []
    }
  ]
}