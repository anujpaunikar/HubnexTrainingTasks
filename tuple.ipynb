{
 "cells": [
  {
   "cell_type": "markdown",
   "id": "a79962c8-a764-4161-896c-24490a25f7ed",
   "metadata": {},
   "source": [
    "# Tuples\n",
    "A tuple is an ordered, immutable collection of elements."
   ]
  },
  {
   "cell_type": "markdown",
   "id": "eb80a254-94c6-420e-8307-ec4de533e756",
   "metadata": {},
   "source": [
    "#### Creating Tuples\n",
    "* Use round brackets ( ) to create a tuple"
   ]
  },
  {
   "cell_type": "code",
   "execution_count": 1,
   "id": "fbafaca6-be80-4745-afaf-e5b971330eaa",
   "metadata": {},
   "outputs": [
    {
     "data": {
      "text/plain": [
       "(1, 'apple', 3.14, True)"
      ]
     },
     "execution_count": 1,
     "metadata": {},
     "output_type": "execute_result"
    }
   ],
   "source": [
    "my_tuple = (1,'apple', 3.14, True)\n",
    "my_tuple"
   ]
  },
  {
   "cell_type": "markdown",
   "id": "30b4f54f-3306-4645-a9f3-02774899b985",
   "metadata": {},
   "source": [
    "#### Accessing Elements\n",
    "* Tuples are indexed starting from 0 and can be accessed using their index withing square brackets"
   ]
  },
  {
   "cell_type": "code",
   "execution_count": 2,
   "id": "fb5d4f83-69d5-48db-acf1-6573db98c92c",
   "metadata": {},
   "outputs": [
    {
     "data": {
      "text/plain": [
       "'orange'"
      ]
     },
     "execution_count": 2,
     "metadata": {},
     "output_type": "execute_result"
    }
   ],
   "source": [
    "my_tuple = ('banana', 'orange', 'mango')\n",
    "fruit = my_tuple[1]\n",
    "fruit"
   ]
  },
  {
   "cell_type": "markdown",
   "id": "e8ead34f-dad0-4f7f-bead-170b22d29fb9",
   "metadata": {},
   "source": [
    "#### Slicing\n",
    "* Extract a portion of the tuple using slicing syntax"
   ]
  },
  {
   "cell_type": "code",
   "execution_count": 3,
   "id": "90c395af-bc56-4ba0-8127-1cca5951e745",
   "metadata": {},
   "outputs": [
    {
     "data": {
      "text/plain": [
       "(2, 3)"
      ]
     },
     "execution_count": 3,
     "metadata": {},
     "output_type": "execute_result"
    }
   ],
   "source": [
    "my_tuple = (1,2,3,4,5)\n",
    "sliced = my_tuple[1:3]\n",
    "sliced"
   ]
  },
  {
   "cell_type": "markdown",
   "id": "e394d748-daea-4dbc-acab-a2451f25a68c",
   "metadata": {},
   "source": [
    "#### Iterating\n",
    "* Loops through each element in the tuple."
   ]
  },
  {
   "cell_type": "code",
   "execution_count": 5,
   "id": "a0d170ee-ef2f-47a1-bf61-87cab7863f05",
   "metadata": {},
   "outputs": [
    {
     "name": "stdout",
     "output_type": "stream",
     "text": [
      "apple\n",
      "banana\n",
      "cherry\n"
     ]
    }
   ],
   "source": [
    "fruits = ('apple', 'banana', 'cherry')\n",
    "for fruit in fruits:\n",
    "   print(fruit)"
   ]
  },
  {
   "cell_type": "markdown",
   "id": "e3c37d0a-69e7-4ab5-ace3-ef24512a3ef5",
   "metadata": {},
   "source": [
    "#### Concatenation\n",
    "* Create a new tuple by combining two existing tuples"
   ]
  },
  {
   "cell_type": "code",
   "execution_count": 6,
   "id": "b70f531f-5223-449f-9eac-cfebdbb4febd",
   "metadata": {},
   "outputs": [
    {
     "data": {
      "text/plain": [
       "('apple', 'banana', 'cherry', 'mango', 'pineapple')"
      ]
     },
     "execution_count": 6,
     "metadata": {},
     "output_type": "execute_result"
    }
   ],
   "source": [
    "tropical_fruits = ('mango', 'pineapple')\n",
    "all_fruits = fruits + tropical_fruits\n",
    "all_fruits"
   ]
  },
  {
   "cell_type": "markdown",
   "id": "de06275d-bdae-43e6-b991-e4252902228e",
   "metadata": {},
   "source": [
    "#### Membership\n",
    "* using \"in\", Return True if the element is present in the tuple, False otherwise"
   ]
  },
  {
   "cell_type": "code",
   "execution_count": 7,
   "id": "45c3b454-907d-4536-b8b4-1ace6c4ec2ea",
   "metadata": {},
   "outputs": [
    {
     "data": {
      "text/plain": [
       "True"
      ]
     },
     "execution_count": 7,
     "metadata": {},
     "output_type": "execute_result"
    }
   ],
   "source": [
    "\"mango\" in all_fruits"
   ]
  },
  {
   "cell_type": "markdown",
   "id": "c1970bda-be19-4525-81f1-0d752bb23c40",
   "metadata": {},
   "source": [
    "#### count()\n",
    "* Counts the number of times a specific element appears in the tuple."
   ]
  },
  {
   "cell_type": "code",
   "execution_count": 8,
   "id": "bb616580-4c78-4354-9a1b-336e304f3df1",
   "metadata": {},
   "outputs": [
    {
     "data": {
      "text/plain": [
       "1"
      ]
     },
     "execution_count": 8,
     "metadata": {},
     "output_type": "execute_result"
    }
   ],
   "source": [
    "fruits.count('banana')"
   ]
  },
  {
   "cell_type": "markdown",
   "id": "03c0f79f-c23d-4bd7-ac96-7ce3753a5206",
   "metadata": {},
   "source": [
    "#### index(element)\n",
    "* Returns the index of the first occurrence of the elements"
   ]
  },
  {
   "cell_type": "code",
   "execution_count": 10,
   "id": "6e1b1144-8b64-4cab-828c-7c34ee1116f5",
   "metadata": {},
   "outputs": [
    {
     "data": {
      "text/plain": [
       "3"
      ]
     },
     "execution_count": 10,
     "metadata": {},
     "output_type": "execute_result"
    }
   ],
   "source": [
    "all_fruits.index('mango')"
   ]
  },
  {
   "cell_type": "markdown",
   "id": "591b67e3-5ad2-46c4-96c9-9f8233e88ef0",
   "metadata": {},
   "source": [
    "#### len(my_tuple)\n",
    "* Determines the number of elements in the tuple."
   ]
  },
  {
   "cell_type": "code",
   "execution_count": 11,
   "id": "7adaa61d-98f2-48e2-ad58-e06ce443084f",
   "metadata": {},
   "outputs": [
    {
     "data": {
      "text/plain": [
       "5"
      ]
     },
     "execution_count": 11,
     "metadata": {},
     "output_type": "execute_result"
    }
   ],
   "source": [
    "len(all_fruits)"
   ]
  }
 ],
 "metadata": {
  "kernelspec": {
   "display_name": "Python 3 (ipykernel)",
   "language": "python",
   "name": "python3"
  },
  "language_info": {
   "codemirror_mode": {
    "name": "ipython",
    "version": 3
   },
   "file_extension": ".py",
   "mimetype": "text/x-python",
   "name": "python",
   "nbconvert_exporter": "python",
   "pygments_lexer": "ipython3",
   "version": "3.11.7"
  }
 },
 "nbformat": 4,
 "nbformat_minor": 5
}
